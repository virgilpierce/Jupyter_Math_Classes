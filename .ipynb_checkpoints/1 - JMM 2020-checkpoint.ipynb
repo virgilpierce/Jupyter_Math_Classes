{
 "cells": [
  {
   "cell_type": "markdown",
   "metadata": {},
   "source": [
    "# Teaching Mathematics with Jupyter and PreText\n",
    "\n",
    "For a mathematics course that is built heavily around the use of Jupyter as an in-class tool,  such as a Data Science,Mathematical Modeling, or even Linear Algebra or Calculus courses it makes sense to use Jupyter to compose the coursenotes. The prose surrounding the computations depends on the results of the computation for example, or the figures beingproduced are dependent on choices made in the computations.  Jupyter can even be used as an interactive presentationduring these classes.The resulting notebook files can be easily published via Github or similar services, or exported to PDF or HTML.However, these are unsatisfactory ways of sharing the material for some uses, and one might prefer to bundle the notesinto something more like an online textbook.  In this presentation we will give an overview of the use of Jupyter as anin-class tool in these kinds of mathematics courses, and then discuss a conversion script for turning Jupyter notebooksinto PreTeXt XML files for publishing as an online textbook (nicely formatted for mobile devices).\n",
    "\n",
    "## What is Jupyter\n",
    "\n",
    "### Using Jupyter for Teaching Data Science\n",
    "\n",
    "### Using Jupyter for Teaching Linear Algebra\n",
    "\n",
    "### Using Jupyter for Teaching Calculus\n",
    "\n",
    "## Converting Jupyter to PreText\n",
    "\n",
    "### Why convert Jupyter to PreText\n",
    "\n",
    "#### Distributing Jupyter Notebooks by Github\n",
    "\n",
    "#### Compiling Notebooks to a PreText Book\n",
    "\n"
   ]
  }
 ],
 "metadata": {
  "kernelspec": {
   "display_name": "Python 3",
   "language": "python",
   "name": "python3"
  },
  "language_info": {
   "codemirror_mode": {
    "name": "ipython",
    "version": 3
   },
   "file_extension": ".py",
   "mimetype": "text/x-python",
   "name": "python",
   "nbconvert_exporter": "python",
   "pygments_lexer": "ipython3",
   "version": "3.5.3"
  }
 },
 "nbformat": 4,
 "nbformat_minor": 4
}
