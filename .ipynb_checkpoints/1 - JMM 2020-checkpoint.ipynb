{
 "cells": [
  {
   "cell_type": "markdown",
   "metadata": {
    "slideshow": {
     "slide_type": "slide"
    }
   },
   "source": [
    "# Teaching Mathematics with Jupyter and PreText\n",
    "\n",
    "### Virgil U Pierce, University of Northern Colorado\n",
    "\n",
    "## Abstract\n",
    "\n",
    "For a mathematics course that is built heavily around the use of Jupyter as an in-class tool,  such as a Data Science,Mathematical Modeling, or even Linear Algebra or Calculus courses it makes sense to use Jupyter to compose the coursenotes. The prose surrounding the computations depends on the results of the computation for example, or the figures beingproduced are dependent on choices made in the computations.  Jupyter can even be used as an interactive presentationduring these classes.The resulting notebook files can be easily published via Github or similar services, or exported to PDF or HTML.However, these are unsatisfactory ways of sharing the material for some uses, and one might prefer to bundle the notesinto something more like an online textbook.  In this presentation we will give an overview of the use of Jupyter as anin-class tool in these kinds of mathematics courses, and then discuss a conversion script for turning Jupyter notebooksinto PreTeXt XML files for publishing as an online textbook (nicely formatted for mobile devices).\n"
   ]
  },
  {
   "cell_type": "markdown",
   "metadata": {
    "slideshow": {
     "slide_type": "slide"
    }
   },
   "source": [
    "## What is Jupyter\n",
    "\n",
    "*Jupyter* is primarily an interactive shell for Python with some additional functionality, mainly a *markdown* language syntax for cells that allows one to wrap Python code cells with descriptive text with some formating options. *Markdown* is a What You See Is What You Get (WYSIWYG) language for typsetting similar to the language used by Wikipedia. For our purposes, the most important feature is that it includes escape environments for typesetting mathematical expressions in $\\LaTeX$ in line and as equations:\n",
    "\n",
    "$$ \\int x^2 dx = 2 x + C $$\n",
    "\n",
    "\n"
   ]
  },
  {
   "cell_type": "markdown",
   "metadata": {
    "slideshow": {
     "slide_type": "subslide"
    }
   },
   "source": [
    "- There are commands for bullets and numeration;\n",
    "- **Bold**, *Italics*, and ~Strikeout~\n",
    "- [html tags](https://virgilpierce.github.io/frontmatter-1.html)\n",
    "- Section and subsection headings (see above)\n",
    "- Importing images (using an HTML / XML type of syntax)\n",
    "\n",
    "<img src=\"IMG_4020.jpg\" style=\"width:200px\">\n",
    "\n",
    "- Of course you can also generate images using Python\n",
    "\n",
    "- A quote environment (see below)\n",
    "\n",
    "and probably some other options I have not discovered yet.\n",
    "\n",
    "Jupyter functions as a webserver either on your local machine or running through a cloud service called a Jupyter Hub. More about Jupyter Hubs at the end.\n",
    "\n"
   ]
  },
  {
   "cell_type": "markdown",
   "metadata": {
    "slideshow": {
     "slide_type": "slide"
    }
   },
   "source": [
    "### What is Python?\n",
    "\n",
    "From the Python Foundation's website:\n",
    "\n",
    "> Python is an interpreted, object-oriented, high-level programming language with dynamic semantics. Its high-level built in data  structures, combined with dynamic typing and dynamic binding, make it very attractive for Rapid Application Development, as well as for use as a scripting or glue language to connect existing components together. \n",
    "\n",
    "\n",
    "\n"
   ]
  },
  {
   "cell_type": "markdown",
   "metadata": {
    "slideshow": {
     "slide_type": "subslide"
    }
   },
   "source": [
    "As someone who is realitvely new to the language I can say that my experience has been:  \n",
    "\n",
    "1. it is a powerful yet easy to learn language with far fewer things that need to be front loaded compared to C++ (no declarations), \n",
    "2. it is much easier to read Python code than other languages (in fact this is a primary focus of the design decisions),\n",
    "3. the interactive environment (like we are using in Jupyter) makes it behave like matlab (you can run a command and then see what happens), \n",
    "4. it was written by a mathematician, and is used extensively for computations in math and science,\n",
    "5. its plotting functions use the same syntax as matlab: plot( x, y, 'b-' )\n",
    "6. it is free and open (beer and liberty)"
   ]
  },
  {
   "cell_type": "markdown",
   "metadata": {
    "slideshow": {
     "slide_type": "subslide"
    }
   },
   "source": [
    "Downsides, as a programing language are the obvious\n",
    "\n",
    "1. Because it is not a compiled language like C++ it is substantially slower,\n",
    "2. Because it is more of a programing language than matlab, you may need to worry about the structure of variables and what they represent at some point.\n",
    "\n",
    "I assert, and will try to show you here, that we can insulate students from the issues that occur with downside 2. Downside 1 should not be an issue in most of the cases I have in mind for a class. In my work, 1 has only been an issue in some combinatorial problems where I am trying to iterate over all permutations of size $n > 12$.\n",
    "\n"
   ]
  },
  {
   "cell_type": "markdown",
   "metadata": {
    "slideshow": {
     "slide_type": "subslide"
    }
   },
   "source": [
    "I have had students who have run into problems on their personal machines with computations taking too long in a data science class. I think the university Jupyter Hub I will use next time I teach that class will solve this problem."
   ]
  },
  {
   "cell_type": "markdown",
   "metadata": {
    "slideshow": {
     "slide_type": "slide"
    }
   },
   "source": [
    "### Why use a tool like Jupyter/Python in Teaching Mathematics\n",
    "\n",
    "A major frustration in my teaching has been when I ask students to use a tool that I know is unrelated to what they would use in the 'real-world', in their careers, or in other classes. \n",
    "\n",
    "- **Python has evolved to be a major tool used in STEM, from small minor tasks to major research projects**. \n",
    "- **Jupyter/Python is a very common tool for Data Science and Mathematics in industry and were identified as important for candidates to have experience with at employee forums run by TPSE and the MAA that I have attended.**\n",
    "\n"
   ]
  },
  {
   "cell_type": "markdown",
   "metadata": {
    "slideshow": {
     "slide_type": "subslide"
    }
   },
   "source": [
    "I also find that programming languages do have some things in common with human languages, and one of those commonalities is that if you do not use it, you will lose it. \n",
    "\n",
    "- **Asking students to use and interact with Python outside of a their programming class will improve their understanding of the language**\n",
    "- **Asking students to use and interact with Python in more mathematics classes will expand their problem solving approaches.**\n",
    "\n",
    "A goal at UNC is to have Python be included in courses throughout the Applied Mathematics degree to increase students fluency and ability to apply computational tools to a wide variety of mathematical and visualization problems."
   ]
  },
  {
   "cell_type": "markdown",
   "metadata": {
    "slideshow": {
     "slide_type": "subslide"
    }
   },
   "source": [
    "But its not just for students who have had a Python class, it is possible to design your course materials to function as a gentle introduction to the language, similarly to how matlab or mathematica can be introduced to students:\n",
    "\n",
    "- **The language is human readable**\n",
    "- **With Jupyter, the code that students see can be wrapped in detailed explanations**\n",
    "- **With Jupyter, hyperlinks to even more details can be added**\n",
    "- **I will show you some techniques for 'locking' cells to limit what students can change in a notebook, allowing you to create worksheets and interactive notebooks that will be hard(er) for students to 'break'**\n",
    "\n"
   ]
  },
  {
   "cell_type": "markdown",
   "metadata": {
    "slideshow": {
     "slide_type": "slide"
    }
   },
   "source": [
    "### Using Jupyter/Python for Teaching Mathematics\n",
    "\n",
    "I will show you a few things we can do with Jupyter/Python that I think are useful for mathematics classes. A caveat is that I have only so far used it for teaching Data Science. I have taught Linear Algebra using Matlab a number of times and plan to use Python the next time I teach it. I have not taught Calculus using a toold like Python but others have and I think it would be particularly useful in that class to have students use it to produce graphs (as you might use Matlab or Mathematica). For STEM students at UNC this would be particularly helpful as they frequently take a first course on Python in proximity to Calculus."
   ]
  },
  {
   "cell_type": "markdown",
   "metadata": {
    "slideshow": {
     "slide_type": "slide"
    }
   },
   "source": [
    "#### Data Science with Pandas and Scikitlearn\n",
    "\n",
    "Starting with the best example first. \n",
    "\n",
    "- Pandas is a package for working with datasets: reading them from files, manipulating the data, and prepping it for analysis. \n",
    "- Scikitlearn is a package for modeling from data and developing predictions. It includes basics such as Linear Regression, and advanced models such as Neural Networks. It also includes tools for evaluating models."
   ]
  },
  {
   "cell_type": "code",
   "execution_count": 10,
   "metadata": {
    "slideshow": {
     "slide_type": "skip"
    }
   },
   "outputs": [],
   "source": [
    "import pandas as pd\n",
    "import numpy as np\n",
    "import matplotlib.pyplot as plt"
   ]
  },
  {
   "cell_type": "code",
   "execution_count": 9,
   "metadata": {
    "slideshow": {
     "slide_type": "subslide"
    }
   },
   "outputs": [
    {
     "data": {
      "text/html": [
       "<div>\n",
       "<style scoped>\n",
       "    .dataframe tbody tr th:only-of-type {\n",
       "        vertical-align: middle;\n",
       "    }\n",
       "\n",
       "    .dataframe tbody tr th {\n",
       "        vertical-align: top;\n",
       "    }\n",
       "\n",
       "    .dataframe thead th {\n",
       "        text-align: right;\n",
       "    }\n",
       "</style>\n",
       "<table border=\"1\" class=\"dataframe\">\n",
       "  <thead>\n",
       "    <tr style=\"text-align: right;\">\n",
       "      <th></th>\n",
       "      <th>Sex</th>\n",
       "      <th>Length</th>\n",
       "      <th>Diameter</th>\n",
       "      <th>Height</th>\n",
       "      <th>Whole_weight</th>\n",
       "      <th>Sucked_weight</th>\n",
       "      <th>Viscera_weight</th>\n",
       "      <th>Shell_weight</th>\n",
       "      <th>Rings</th>\n",
       "    </tr>\n",
       "  </thead>\n",
       "  <tbody>\n",
       "    <tr>\n",
       "      <th>0</th>\n",
       "      <td>M</td>\n",
       "      <td>0.455</td>\n",
       "      <td>0.365</td>\n",
       "      <td>0.095</td>\n",
       "      <td>0.5140</td>\n",
       "      <td>0.2245</td>\n",
       "      <td>0.1010</td>\n",
       "      <td>0.150</td>\n",
       "      <td>15</td>\n",
       "    </tr>\n",
       "    <tr>\n",
       "      <th>1</th>\n",
       "      <td>M</td>\n",
       "      <td>0.350</td>\n",
       "      <td>0.265</td>\n",
       "      <td>0.090</td>\n",
       "      <td>0.2255</td>\n",
       "      <td>0.0995</td>\n",
       "      <td>0.0485</td>\n",
       "      <td>0.070</td>\n",
       "      <td>7</td>\n",
       "    </tr>\n",
       "    <tr>\n",
       "      <th>2</th>\n",
       "      <td>F</td>\n",
       "      <td>0.530</td>\n",
       "      <td>0.420</td>\n",
       "      <td>0.135</td>\n",
       "      <td>0.6770</td>\n",
       "      <td>0.2565</td>\n",
       "      <td>0.1415</td>\n",
       "      <td>0.210</td>\n",
       "      <td>9</td>\n",
       "    </tr>\n",
       "    <tr>\n",
       "      <th>3</th>\n",
       "      <td>M</td>\n",
       "      <td>0.440</td>\n",
       "      <td>0.365</td>\n",
       "      <td>0.125</td>\n",
       "      <td>0.5160</td>\n",
       "      <td>0.2155</td>\n",
       "      <td>0.1140</td>\n",
       "      <td>0.155</td>\n",
       "      <td>10</td>\n",
       "    </tr>\n",
       "    <tr>\n",
       "      <th>4</th>\n",
       "      <td>I</td>\n",
       "      <td>0.330</td>\n",
       "      <td>0.255</td>\n",
       "      <td>0.080</td>\n",
       "      <td>0.2050</td>\n",
       "      <td>0.0895</td>\n",
       "      <td>0.0395</td>\n",
       "      <td>0.055</td>\n",
       "      <td>7</td>\n",
       "    </tr>\n",
       "  </tbody>\n",
       "</table>\n",
       "</div>"
      ],
      "text/plain": [
       "  Sex  Length  Diameter  Height  Whole_weight  Sucked_weight  Viscera_weight  \\\n",
       "0   M   0.455     0.365   0.095        0.5140         0.2245          0.1010   \n",
       "1   M   0.350     0.265   0.090        0.2255         0.0995          0.0485   \n",
       "2   F   0.530     0.420   0.135        0.6770         0.2565          0.1415   \n",
       "3   M   0.440     0.365   0.125        0.5160         0.2155          0.1140   \n",
       "4   I   0.330     0.255   0.080        0.2050         0.0895          0.0395   \n",
       "\n",
       "   Shell_weight  Rings  \n",
       "0         0.150     15  \n",
       "1         0.070      7  \n",
       "2         0.210      9  \n",
       "3         0.155     10  \n",
       "4         0.055      7  "
      ]
     },
     "execution_count": 9,
     "metadata": {},
     "output_type": "execute_result"
    }
   ],
   "source": [
    "ab = pd.read_csv('Abalone/abalone.csv', \n",
    "                 names = ['Sex', 'Length', 'Diameter', 'Height', 'Whole_weight', \n",
    "                      'Sucked_weight', 'Viscera_weight', 'Shell_weight',\n",
    "                                          'Rings'])\n",
    "\n",
    "ab.head()"
   ]
  },
  {
   "cell_type": "code",
   "execution_count": 22,
   "metadata": {
    "slideshow": {
     "slide_type": "subslide"
    }
   },
   "outputs": [],
   "source": [
    "# Produce a numpy array with the Length variable and another with the Whole_Weight\n",
    "\n",
    "X = np.atleast_2d(np.array([float(h) for h in ab.loc[:, 'Length']])).transpose()\n",
    "\n",
    "y = np.array(ab.loc[:, 'Whole_weight'])"
   ]
  },
  {
   "cell_type": "code",
   "execution_count": 23,
   "metadata": {
    "slideshow": {
     "slide_type": "subslide"
    }
   },
   "outputs": [
    {
     "data": {
      "image/png": "[encoded data removed]",
      "text/plain": [
       "<Figure size 432x288 with 1 Axes>"
      ]
     },
     "metadata": {
      "needs_background": "light"
     },
     "output_type": "display_data"
    }
   ],
   "source": [
    "plt.plot(X, y, 'b.');"
   ]
  },
  {
   "cell_type": "code",
   "execution_count": 24,
   "metadata": {
    "slideshow": {
     "slide_type": "subslide"
    }
   },
   "outputs": [
    {
     "name": "stdout",
     "output_type": "stream",
     "text": [
      "[[0.455    0.207025]\n",
      " [0.35     0.1225  ]\n",
      " [0.53     0.2809  ]\n",
      " [0.44     0.1936  ]\n",
      " [0.33     0.1089  ]\n",
      " [0.425    0.180625]\n",
      " [0.53     0.2809  ]\n",
      " [0.545    0.297025]\n",
      " [0.475    0.225625]\n",
      " [0.55     0.3025  ]]\n"
     ]
    }
   ],
   "source": [
    "X2 = np.atleast_2d(np.array([x**2 for x in X]))\n",
    "X = np.concatenate([X, X2], axis=1)\n",
    "print(X[:10])"
   ]
  },
  {
   "cell_type": "markdown",
   "metadata": {
    "slideshow": {
     "slide_type": "subslide"
    }
   },
   "source": [
    "A side note here is that students in Linear Algebra that are heading towards a Data Science course will benifit from experience working with large non-square matrices. Typical problems either have many more samples than features, or in the case of images many more features than samples."
   ]
  },
  {
   "cell_type": "code",
   "execution_count": 25,
   "metadata": {
    "slideshow": {
     "slide_type": "subslide"
    }
   },
   "outputs": [
    {
     "data": {
      "text/plain": [
       "(0.44493874474588524, -3.2701559859542164, 7.257566596811777)"
      ]
     },
     "execution_count": 25,
     "metadata": {},
     "output_type": "execute_result"
    }
   ],
   "source": [
    "from sklearn.linear_model import LinearRegression\n",
    "reg = LinearRegression().fit(X, y)\n",
    "c, b, a = reg.intercept_, *reg.coef_\n",
    "c, b, a"
   ]
  },
  {
   "cell_type": "code",
   "execution_count": 29,
   "metadata": {
    "slideshow": {
     "slide_type": "subslide"
    }
   },
   "outputs": [
    {
     "data": {
      "image/png": "[encoded data removed]",
      "text/plain": [
       "<Figure size 432x288 with 1 Axes>"
      ]
     },
     "metadata": {
      "needs_background": "light"
     },
     "output_type": "display_data"
    }
   ],
   "source": [
    "# Plotting the resulting Quadratic Regression Model\n",
    "\n",
    "plt.plot(X[:, 0], y, 'b.')\n",
    "xx = np.linspace(0, 0.8, 50)\n",
    "yy = a*xx**2 + b*xx + c\n",
    "plt.plot(xx, yy, 'r-');"
   ]
  },
  {
   "cell_type": "markdown",
   "metadata": {
    "slideshow": {
     "slide_type": "slide"
    }
   },
   "source": [
    "#### Linear Algebra\n",
    "\n"
   ]
  },
  {
   "cell_type": "markdown",
   "metadata": {
    "slideshow": {
     "slide_type": "slide"
    }
   },
   "source": [
    "#### Calculus\n",
    "\n"
   ]
  },
  {
   "cell_type": "markdown",
   "metadata": {
    "slideshow": {
     "slide_type": "slide"
    }
   },
   "source": [
    "#### Additional Tools:  Cell Lock\n",
    "\n"
   ]
  },
  {
   "cell_type": "markdown",
   "metadata": {
    "slideshow": {
     "slide_type": "slide"
    }
   },
   "source": [
    "#### Additional Tools: Jupyter Hub and Github\n",
    "\n",
    "\n"
   ]
  },
  {
   "cell_type": "markdown",
   "metadata": {
    "slideshow": {
     "slide_type": "slide"
    }
   },
   "source": [
    "## Converting Jupyter to PreText\n",
    "\n"
   ]
  },
  {
   "cell_type": "markdown",
   "metadata": {
    "slideshow": {
     "slide_type": "slide"
    }
   },
   "source": [
    "### Why convert Jupyter to PreText\n",
    "\n"
   ]
  },
  {
   "cell_type": "markdown",
   "metadata": {
    "slideshow": {
     "slide_type": "slide"
    }
   },
   "source": [
    "#### Distributing Jupyter Notebooks by Github\n",
    "\n"
   ]
  },
  {
   "cell_type": "markdown",
   "metadata": {
    "slideshow": {
     "slide_type": "slide"
    }
   },
   "source": [
    "#### Compiling Notebooks to a PreText Book"
   ]
  },
  {
   "cell_type": "code",
   "execution_count": null,
   "metadata": {},
   "outputs": [],
   "source": []
  }
 ],
 "metadata": {
  "celltoolbar": "Slideshow",
  "kernelspec": {
   "display_name": "Python 3",
   "language": "python",
   "name": "python3"
  },
  "language_info": {
   "codemirror_mode": {
    "name": "ipython",
    "version": 3
   },
   "file_extension": ".py",
   "mimetype": "text/x-python",
   "name": "python",
   "nbconvert_exporter": "python",
   "pygments_lexer": "ipython3",
   "version": "3.5.3"
  }
 },
 "nbformat": 4,
 "nbformat_minor": 4
}
