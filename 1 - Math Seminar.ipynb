{
 "cells": [
  {
   "cell_type": "markdown",
   "metadata": {},
   "source": [
    "# Jupyter for Mathematics Classes\n",
    "\n",
    "## What is Jupyter?\n",
    "\n",
    "*Jupyter* is primarily an interactive shell for Python with some additional functionality, mainly a *markdown* language syntax for cells that allows one to wrap Python code cells with descriptive text with some formating options. *Markdown* is a What You See Is What You Get (WYSIWYG) language for typsetting similar to then language used by Wikipedia. For our purposes, the most important feature is that includes escape environments for typesetting mathematical expressions in $\\LaTeX$ in line and as equations:\n",
    "\n",
    "$$ \\int x^2 dx = 2 x + C $$\n",
    "\n",
    "- There are commands for bullets and numeration;\n",
    "- **Bold**, *Italics*, and ~Strikeout~\n",
    "- [html tags](https://virgilpierce.github.io/frontmatter-1.html)\n",
    "- Section and subsection headings (see above)\n",
    "- Importing images (using an HTML / XML type of syntax)\n",
    "\n",
    "<img src=\"IMG_4020.jpg\" style=\"width:200px\">\n",
    "\n",
    "- A quote environment (see below)\n",
    "\n",
    "and probably some other options I have not discovered yet.\n",
    "\n",
    "Jupyter functions as a webserver either on your local machine or running through a cloud service called a Jupyter Hub. More about Jupyter Hubs at the end.\n",
    "\n",
    "### Okay so what is Python?\n",
    "\n",
    "If you have not seen Python before, today's presentation will be a gentle introduction. From the Python Foundation's website:\n",
    "\n",
    "> Python is an interpreted, object-oriented, high-level programming language with dynamic semantics. Its high-level built in data  structures, combined with dynamic typing and dynamic binding, make it very attractive for Rapid Application Development, as well as for use as a scripting or glue language to connect existing components together. \n",
    "\n",
    "As someone who is realitvely new to the language I can say that my experience has been:  \n",
    "\n",
    "1. it is a powerful yet easy to learn language with far fewer things that need to be front loaded compared to C++ (no declarations), \n",
    "2. it is much easier to read Python code than other languages (in fact this is a primary focus of the design decisions),\n",
    "3. the interactive environment (like we are using in Jupyter) makes it behave like matlab (you can run a command and then see what happens), \n",
    "4. it was written by a mathematician, and is used extensively for computations in math and science,\n",
    "5. it is free and open (beer and liberty)\n",
    "\n",
    "Downsides, as a programing language are the obvious\n",
    "\n",
    "1. Because it is not a compiled language like C++ it is substantially slower,\n",
    "2. Because it is more of a programing language than matlab, you may need to worry about the structure of variables and what they represent at some point.\n"
   ]
  },
  {
   "cell_type": "code",
   "execution_count": null,
   "metadata": {},
   "outputs": [],
   "source": []
  }
 ],
 "metadata": {
  "kernelspec": {
   "display_name": "Python 3",
   "language": "python",
   "name": "python3"
  },
  "language_info": {
   "codemirror_mode": {
    "name": "ipython",
    "version": 3
   },
   "file_extension": ".py",
   "mimetype": "text/x-python",
   "name": "python",
   "nbconvert_exporter": "python",
   "pygments_lexer": "ipython3",
   "version": "3.7.3"
  }
 },
 "nbformat": 4,
 "nbformat_minor": 4
}
