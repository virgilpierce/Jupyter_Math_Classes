{
 "cells": [
  {
   "cell_type": "markdown",
   "metadata": {},
   "source": [
    "# Jupyter for Mathematics Classes\n",
    "\n",
    "## What is Jupyter?\n",
    "\n",
    "*Jupyter* is primarily an interactive shell for Python with some additional functionality, mainly a *markdown* language syntax for cells that allows one to wrap Python code cells with descriptive text with some formating options. *Markdown* is a What You See Is What You Get (WYSIWYG) language for typsetting similar to the language used by Wikipedia. For our purposes, the most important feature is that it includes escape environments for typesetting mathematical expressions in $\\LaTeX$ in line and as equations:\n",
    "\n",
    "$$ \\int x^2 dx = 2 x + C $$\n",
    "\n",
    "- There are commands for bullets and numeration;\n",
    "- **Bold**, *Italics*, and ~Strikeout~\n",
    "- [html tags](https://virgilpierce.github.io/frontmatter-1.html)\n",
    "- Section and subsection headings (see above)\n",
    "- Importing images (using an HTML / XML type of syntax)\n",
    "\n",
    "<img src=\"IMG_4020.jpg\" style=\"width:200px\">\n",
    "\n",
    "- A quote environment (see below)\n",
    "\n",
    "and probably some other options I have not discovered yet.\n",
    "\n",
    "Jupyter functions as a webserver either on your local machine or running through a cloud service called a Jupyter Hub. More about Jupyter Hubs at the end.\n",
    "\n",
    "### Okay so what is Python?\n",
    "\n",
    "If you have not seen Python before, today's presentation will be a gentle introduction. From the Python Foundation's website:\n",
    "\n",
    "> Python is an interpreted, object-oriented, high-level programming language with dynamic semantics. Its high-level built in data  structures, combined with dynamic typing and dynamic binding, make it very attractive for Rapid Application Development, as well as for use as a scripting or glue language to connect existing components together. \n",
    "\n",
    "As someone who is realitvely new to the language I can say that my experience has been:  \n",
    "\n",
    "1. it is a powerful yet easy to learn language with far fewer things that need to be front loaded compared to C++ (no declarations), \n",
    "2. it is much easier to read Python code than other languages (in fact this is a primary focus of the design decisions),\n",
    "3. the interactive environment (like we are using in Jupyter) makes it behave like matlab (you can run a command and then see what happens), \n",
    "4. it was written by a mathematician, and is used extensively for computations in math and science,\n",
    "5. its plotting functions use the same syntax as matlab: plot( x, y, 'b-' )\n",
    "6. it is free and open (beer and liberty)\n",
    "\n",
    "Downsides, as a programing language are the obvious\n",
    "\n",
    "1. Because it is not a compiled language like C++ it is substantially slower,\n",
    "2. Because it is more of a programing language than matlab, you may need to worry about the structure of variables and what they represent at some point.\n",
    "\n",
    "I assert, and will try to show you here, that we can insulate students from the issues that occur with downside 2. Downside 1 should not be an issue in most of the cases I have in mind for a class. In my work, 1 has only been an issue in some combinatorial problems where I am trying to iterate over all permutations of size $n > 12$.\n"
   ]
  },
  {
   "cell_type": "markdown",
   "metadata": {},
   "source": [
    "## Why use a tool like Jupyter/Python\n",
    "\n",
    "A major frustration in my teaching has been when I ask students to use a tool that I know is unrelated to what they would use in the 'real-world', in their careers, or in other classes. \n",
    "\n",
    "- **Python has evolved to be a major tool used in STEM, from small minor tasks to major research projects**. \n",
    "- **Jupyter/Python is a very common tool for Data Science in industry and were identified as important for candidates to have experience with**\n",
    "\n",
    "I also find that programming languages do have some things in common with human languages, and one of those commonalities is that if you do not use it, you will lose it. \n",
    "\n",
    "- **Asking students to use and interact with Python outside of a their programming class will improve their understanding of the language**\n",
    "\n",
    "But its not just for students who have had a Python class, it is possible to design your course materials to function as a gentle introduction to the language, similarly to how matlab or mathematica can be introduced to students:\n",
    "\n",
    "- **The language is human readable**\n",
    "- **With Jupyter, the code that students see can be wrapped in detailed explanations**\n",
    "- **With Jupyter, hyperlinks to even more details can be added**\n",
    "- **I will show you some techniques for 'locking' cells to limit what students can change in a notebook, allowing you to create worksheets and interactive notebooks that will be hard(er) for students to 'break'**"
   ]
  },
  {
   "cell_type": "markdown",
   "metadata": {},
   "source": [
    "### My own personal journey\n",
    "\n",
    "I am very much aware that my experiences are not those of my students. In fact it is incredibly frustrating that I visited many schools in South Texas that had fewer computers per student in 2012 than my own high school did in 1992. That said, part of my enthusiasm for tools like Jupyter / Python is from my own personal experience being a student.\n",
    "\n",
    "#### Some pre-history\n",
    "\n",
    "Our story starts in a small school district in rural Vermont: our protagonist was a mediocre 'C' student in mathematics who spent most of his time reading pulp fantasy and science-fiction, when he was not wandering around the woods. \n",
    "\n",
    "Then the school receives its first ever set of classroom computers (1992). A group of students, including the protagonist, joins the school librarian in working their way through learning Pascal. \n",
    "\n",
    "I believe I can still remember this moment accurately: One day, in learning about writing functions, there is a loud audible *click* sound (I wouldn't be surprised if the librarian said \"What was that noise?\").  I suddenly got what a function in my math class was. \n",
    "\n",
    "The question *How would we have a computer do this?* began to permeate all of my thinking about mathematics (I probably drove some teachers crazy). There were a few bumps along the way, but if you were to look into one of my notebooks from graduate school, my research notes from my post-doc, and througout my lesson plans you will see this question again and again. It became for me a fundamental underpinning of my thinking and understanding.\n",
    "\n",
    "In fact, I think one of my struggles with real analysis was that this question became very hard to give good answers to.\n",
    "\n",
    "#### OSU - Linear Algebra for Engineers\n",
    "\n",
    "In my second year at Ohio State, I was assigned their *Linear Algebra for Engineers* course. A course for engineering majors that also served as the *introduction ot matlab* for them. The course was designed by David Terman using an open source *Introduction to Matlab* he had made.\n",
    "\n",
    "- The course moved at what to a *Linear Algebra for Mathematicians* instructor would probably be called an fast pace, \n",
    "- The reason for the pace, is that Dr. Terman had the goal of getting to what he considered *The most improtant fact about Linear Algebra that engineering students need to know*:\n",
    "\n",
    "> Solving a well posed linear system propogates errors, the resulting errors can be estimated with the condition number of the matrix of coefficients. \n",
    "\n",
    "This result is underpinned by the Singular Value Decomposition of a matrix and is typically derived in a second course or a graduate course in Linear Algebra or is just presented as a formula for an engineering class. We split the difference in this class, we derived it in class but then used matlab to compute it and work with it. \n",
    "\n",
    "Compared to my undergraduate *Linear Algebra* the course emphasized non-square matrices, matrices that were much larger than $3\\times 3$, and the difference between exact and approximate results.\n",
    "\n",
    "#### So what would a Linear Algebra with Python Look Like\n",
    "\n"
   ]
  },
  {
   "cell_type": "code",
   "execution_count": 125,
   "metadata": {},
   "outputs": [],
   "source": [
    "import numpy as np  # numpy is a set of computational tools for numerical results\n",
    "import numpy.linalg as la  # numpy.linalg are some linear algebra specific tools\n",
    "import sympy as sy # sympy is a set of symbolic computational tools for exact results\n",
    "import matplotlib.pyplot as plt # A set of plotting tools"
   ]
  },
  {
   "cell_type": "code",
   "execution_count": 23,
   "metadata": {},
   "outputs": [
    {
     "name": "stdout",
     "output_type": "stream",
     "text": [
      "[[1 1 2]\n",
      " [1 1 1]\n",
      " [2 1 1]]\n"
     ]
    }
   ],
   "source": [
    "# For numpy tools, matrices are arrays\n",
    "\n",
    "A = np.array( [ [1, 1, 2], [1, 1, 1], [2, 1, 1]])\n",
    "print(A)"
   ]
  },
  {
   "cell_type": "code",
   "execution_count": 13,
   "metadata": {},
   "outputs": [
    {
     "name": "stdout",
     "output_type": "stream",
     "text": [
      "[[-1]\n",
      " [ 1]\n",
      " [ 3]]\n"
     ]
    }
   ],
   "source": [
    "v = np.array( [ [-1, 1, 3]]).transpose()  \n",
    "# As with matlab and mathematica it is annoyingly easy to enter row-vectors compared with column-vectors\n",
    "print(v)"
   ]
  },
  {
   "cell_type": "code",
   "execution_count": 14,
   "metadata": {},
   "outputs": [
    {
     "name": "stdout",
     "output_type": "stream",
     "text": [
      "[[6]\n",
      " [3]\n",
      " [2]]\n"
     ]
    }
   ],
   "source": [
    "# students can multiply matrices using Python\n",
    "\n",
    "print( A @ v )"
   ]
  },
  {
   "cell_type": "markdown",
   "metadata": {},
   "source": [
    "Students (and you) will come face-to-face with the problem that exact results and numerical results are different things. In Python they use separate packages. See below on *Computational Linear Algebra*."
   ]
  },
  {
   "cell_type": "code",
   "execution_count": 31,
   "metadata": {},
   "outputs": [
    {
     "data": {
      "text/latex": [
       "$\\displaystyle \\left[\\begin{matrix}1 & 1 & 1 & 2 & -2 & 4\\\\2 & 2 & 3 & 1 & -1 & 5\\\\-1 & -1 & 1 & 0.5 & -0.5 & 1\\end{matrix}\\right]$"
      ],
      "text/plain": [
       "Matrix([\n",
       "[ 1,  1, 1,   2,   -2, 4],\n",
       "[ 2,  2, 3,   1,   -1, 5],\n",
       "[-1, -1, 1, 0.5, -0.5, 1]])"
      ]
     },
     "execution_count": 31,
     "metadata": {},
     "output_type": "execute_result"
    }
   ],
   "source": [
    "# sympy Matrices can be made from numpy arrays. They include a nice display format.\n",
    "\n",
    "AA = sy.Matrix( [[1, 1, 1, 2, -2, 4], [2, 2, 3, 1, -1, 5], [-1, -1, 1, 1/2, -1/2, 1]])\n",
    "AA"
   ]
  },
  {
   "cell_type": "code",
   "execution_count": 32,
   "metadata": {},
   "outputs": [
    {
     "data": {
      "text/plain": [
       "(Matrix([\n",
       " [1, 1.0, 0, 0,    0, 0.529411764705882],\n",
       " [0,   0, 1, 0,    0, 0.882352941176471],\n",
       " [0,   0, 0, 1, -1.0,  1.29411764705882]]), (0, 2, 3))"
      ]
     },
     "execution_count": 32,
     "metadata": {},
     "output_type": "execute_result"
    }
   ],
   "source": [
    "# We can compute the rref of a matrix\n",
    "\n",
    "AA.rref()"
   ]
  },
  {
   "cell_type": "markdown",
   "metadata": {},
   "source": [
    "Note that we get two items, the first is the rref, the second is a list of the columns with pivots."
   ]
  },
  {
   "cell_type": "code",
   "execution_count": 33,
   "metadata": {},
   "outputs": [
    {
     "data": {
      "text/latex": [
       "$\\displaystyle \\left[\\begin{matrix}1 & 1.0 & 0 & 0 & 0 & 0.529411764705882\\\\0 & 0 & 1 & 0 & 0 & 0.882352941176471\\\\0 & 0 & 0 & 1 & -1.0 & 1.29411764705882\\end{matrix}\\right]$"
      ],
      "text/plain": [
       "Matrix([\n",
       "[1, 1.0, 0, 0,    0, 0.529411764705882],\n",
       "[0,   0, 1, 0,    0, 0.882352941176471],\n",
       "[0,   0, 0, 1, -1.0,  1.29411764705882]])"
      ]
     },
     "execution_count": 33,
     "metadata": {},
     "output_type": "execute_result"
    }
   ],
   "source": [
    "AA.rref()[0] # We can pull out the result by referencing the first item in the tuple."
   ]
  },
  {
   "cell_type": "markdown",
   "metadata": {},
   "source": [
    "So early in the course, Python gives us a nice way for students to do the computations we are doing. \n",
    "\n",
    "- I would have students using Elementary Matrices to encode row operations as we build up to RREF.\n",
    "- Because they are using the computer for the computations we can use much larger problems than we would by hand\n",
    "- With much larger problems, much more interesting things happen\n",
    "- We are letting the computer do what it is good at - arithemetic, so students can do what they are best at - thinking."
   ]
  },
  {
   "cell_type": "markdown",
   "metadata": {},
   "source": [
    "#### Computational Linear Algebra\n",
    "\n",
    "The real power of these kinds of tools in a *Linear Algebra* class comes out when we get to eigenvalues and beyond (which in my classes would be a fair bit earlier than in a non-computer class).\n",
    "\n",
    "The first method of computing eigenvalues that we typically introduce is as solutions of the polynomial equation \n",
    "\n",
    "$$ \\mbox{det}(A - \\lambda I) = 0 $$\n",
    "\n",
    "Which is important as it is emphasizing the use of the determinant for determining singularity, eigenvectors as elements of a nullspace, and the eigenvalues as parameters creating a nullspace.\n",
    "\n",
    "However some important points that we usually gloss over at this point in the course: General solutions to these polynomials are only gaurunteed for an $A$ that is $n\\times n$ with $n \\leq 4$ and most of us only have the formula memorized for $n\\leq 2$. Once $n$ is bigger than 4 solving this equation would be done using something like Newton's method which is slow compared to direct methods.\n",
    "\n",
    "Now I would not teach students what some of those direct methods are, but we would discuss this issue and then begin using the routines in numpy.\n",
    "\n",
    "#### Eigenvalue Lesson\n",
    "\n",
    "We first introduce students to Eigenvalues via experimentation with a Markov matrix"
   ]
  },
  {
   "cell_type": "code",
   "execution_count": 105,
   "metadata": {},
   "outputs": [
    {
     "name": "stdout",
     "output_type": "stream",
     "text": [
      "[[0.   0.   0.25 0.   0.  ]\n",
      " [0.   0.   0.25 0.   0.  ]\n",
      " [0.5  1.   0.   0.5  0.  ]\n",
      " [0.   0.   0.25 0.   0.  ]\n",
      " [0.5  0.   0.25 0.5  1.  ]]\n"
     ]
    }
   ],
   "source": [
    "M = np.array([0, 0, 0.5, 0, 0.5,\n",
    "              0, 0, 1, 0, 0,\n",
    "              0.25, 0.25, 0, 0.25, 0.25,\n",
    "              0, 0, 0.5, 0, 0.5, \n",
    "              0, 0, 0,   0, 1]).reshape(5,5).transpose()\n",
    "print(M)"
   ]
  },
  {
   "cell_type": "markdown",
   "metadata": {},
   "source": [
    "Take a random vector $v$ and repeatedly apply $M$ (Markov matrices encode for instances how a population is moving between a set of cities at each time step)."
   ]
  },
  {
   "cell_type": "code",
   "execution_count": 107,
   "metadata": {},
   "outputs": [
    {
     "name": "stdout",
     "output_type": "stream",
     "text": [
      "[[0.05]\n",
      " [0.05]\n",
      " [0.4 ]\n",
      " [0.05]\n",
      " [0.45]]\n"
     ]
    }
   ],
   "source": [
    "v = np.array([ [0.2, 0.2, 0.2, 0.2, 0.2]]).transpose()\n",
    "print( M @ v)"
   ]
  },
  {
   "cell_type": "code",
   "execution_count": 108,
   "metadata": {},
   "outputs": [
    {
     "name": "stdout",
     "output_type": "stream",
     "text": [
      "[[0.1]\n",
      " [0.1]\n",
      " [0.1]\n",
      " [0.1]\n",
      " [0.6]]\n"
     ]
    }
   ],
   "source": [
    "print( la.matrix_power(M, 2) @ v)"
   ]
  },
  {
   "cell_type": "code",
   "execution_count": 119,
   "metadata": {},
   "outputs": [
    {
     "name": "stdout",
     "output_type": "stream",
     "text": [
      "[[0.]\n",
      " [0.]\n",
      " [0.]\n",
      " [0.]\n",
      " [1.]]\n"
     ]
    }
   ],
   "source": [
    "v0 = la.matrix_power(M, 100) @ v  # Note the 100th power of a matrix, we would not compute by hand\n",
    "print(v0)"
   ]
  },
  {
   "cell_type": "code",
   "execution_count": 120,
   "metadata": {},
   "outputs": [
    {
     "name": "stdout",
     "output_type": "stream",
     "text": [
      "[[0.]\n",
      " [0.]\n",
      " [0.]\n",
      " [0.]\n",
      " [1.]]\n"
     ]
    }
   ],
   "source": [
    "print(M @ v0)\n",
    "\n",
    "# 1 is an eigenvalue of M with eigenvector v0."
   ]
  },
  {
   "cell_type": "code",
   "execution_count": 121,
   "metadata": {},
   "outputs": [
    {
     "name": "stdout",
     "output_type": "stream",
     "text": [
      "[ 1.         -0.70710678 -0.          0.70710678  0.        ]\n"
     ]
    }
   ],
   "source": [
    "print(la.eig(M)[0])"
   ]
  },
  {
   "cell_type": "markdown",
   "metadata": {},
   "source": [
    "Note that algorithms for computing eigenvalues are so good, they provide an effective means of calculating zeros of polynomials via the companion matrix:"
   ]
  },
  {
   "cell_type": "code",
   "execution_count": 47,
   "metadata": {},
   "outputs": [
    {
     "name": "stdout",
     "output_type": "stream",
     "text": [
      "[[   0    1    0    0    0    0]\n",
      " [   0    0    1    0    0    0]\n",
      " [   0    0    0    1    0    0]\n",
      " [   0    0    0    0    1    0]\n",
      " [   0    0    0    0    0    1]\n",
      " [ 192  -64 -156    4   25    0]]\n"
     ]
    }
   ],
   "source": [
    "A = np.array( [ [0, 1, 0, 0, 0, 0], \n",
    "               [0, 0, 1, 0, 0, 0],\n",
    "               [0, 0, 0, 1, 0, 0], \n",
    "               [0, 0, 0, 0, 1, 0],\n",
    "               [0, 0, 0, 0, 0, 1], \n",
    "               [192, -64, -156, 4, 25, 0]])\n",
    "print(A)"
   ]
  },
  {
   "cell_type": "code",
   "execution_count": 57,
   "metadata": {},
   "outputs": [
    {
     "name": "stdout",
     "output_type": "stream",
     "text": [
      "[-4.+0.j  4.+0.j  3.+0.j -2.+0.j -2.-0.j  1.+0.j]\n"
     ]
    }
   ],
   "source": [
    "out = la.eig(A)\n",
    "print(out[0].round(5))"
   ]
  },
  {
   "cell_type": "code",
   "execution_count": 49,
   "metadata": {},
   "outputs": [
    {
     "data": {
      "text/latex": [
       "$\\displaystyle x^{6} - 25 x^{4} - 4 x^{3} + 156 x^{2} + 64 x - 192$"
      ],
      "text/plain": [
       "x**6 - 25*x**4 - 4*x**3 + 156*x**2 + 64*x - 192"
      ]
     },
     "execution_count": 49,
     "metadata": {},
     "output_type": "execute_result"
    }
   ],
   "source": [
    "x = sy.symbols('x')\n",
    "sy.expand((x+4)*(x-4)*(x-3)*(x+2)*(x+2)*(x-1))"
   ]
  },
  {
   "cell_type": "markdown",
   "metadata": {},
   "source": [
    "#### Linear Regression\n",
    "\n",
    "Suppose we have a collection of data points $(x_i, y_i)$ and we would like to find the best Linear Model $y = m x + b$ fitting this data. By best we mean minimizing some error, and a common choice of error is the sum of the squares of the residuals.  Let $\\hat{y}_i = m x_i + b$ for some choice of $m$ and $b$:\n",
    "\n",
    "$$ E(m, b) = \\sum_{j=0}^{n-1} (\\hat{y}_i - y_i)^2 $$\n",
    "\n",
    "The reason for this choice of error is that this problem can be solved via Calculus by computing the partial derivatives of $E$ in the directions of $m$ and $b$ and setting them both to zero. Because $E$ is quadratic, these partial derivatives are linear functions of $m$ and $b$ and thus can be solved via matrix multiplication. \n",
    "\n",
    "$$ \\frac{\\partial E}{\\partial m} = \\sum_{j=0}^{n-1} 2 ( \\hat{y}_i - y_i ) x_i = 0 $$\n",
    "$$ \\frac{\\partial E}{\\partial b} = \\sum_{j=0}^{n-1} 2 ( \\hat{y}_i - y_i ) = 0 $$\n",
    "\n",
    "As a matrix equation this system is\n",
    "\n",
    "$$ A \\begin{pmatrix} m \\\\ b \\end{pmatrix} = C $$\n",
    "\n",
    "where \n",
    "\n",
    "$$ A = \\begin{pmatrix} 2 \\sum x_i^2 & 2 \\sum x_i \\\\ 2 \\sum x_i & 2 n \\end{pmatrix} $$\n",
    "and\n",
    "$$ C = \\begin{pmatrix} 2 \\sum x_i y_i \\\\ 2 \\sum y_i \\end{pmatrix}$$\n",
    "\n",
    "One can check that under some reasonable conditions (satisfied by generic $x_i$) the matrix $A$ is invertible and we have \n",
    "\n",
    "$$ \\begin{pmatrix} m \\\\ b \\end{pmatrix} = A^{-1} C $$\n"
   ]
  },
  {
   "cell_type": "code",
   "execution_count": 153,
   "metadata": {},
   "outputs": [
    {
     "data": {
      "image/png": "[encoded data removed]",
      "text/plain": [
       "<Figure size 432x288 with 1 Axes>"
      ]
     },
     "metadata": {
      "needs_background": "light"
     },
     "output_type": "display_data"
    }
   ],
   "source": [
    "import pandas as pa  # I need a module that contains a function for reading a csv file\n",
    "bp = pa.read_csv('Major League Height-Weight.csv')\n",
    "bp = bp.drop( bp[pa.isna(bp['Weight(pounds)'])].index.values )  \n",
    "# This is a real data set which means it has some missing values\n",
    "\n",
    "X = bp['Height(inches)']\n",
    "Y = bp['Weight(pounds)']\n",
    "plt.plot(X, Y, 'b.')\n",
    "plt.xlabel('Height')\n",
    "plt.ylabel('Weight')\n",
    "plt.title('Weight v Height of Baseball Players');"
   ]
  },
  {
   "cell_type": "code",
   "execution_count": 154,
   "metadata": {},
   "outputs": [
    {
     "name": "stdout",
     "output_type": "stream",
     "text": [
      "[[11232526   152262]\n",
      " [  152262     2066]]\n"
     ]
    }
   ],
   "source": [
    "A = np.array( [ 2*sum(X**2), 2*sum(X), 2*sum(X), 2*X.shape[0]]).reshape(2,2)\n",
    "print(A)"
   ]
  },
  {
   "cell_type": "code",
   "execution_count": 155,
   "metadata": {},
   "outputs": [
    {
     "name": "stdout",
     "output_type": "stream",
     "text": [
      "[[30762758.]\n",
      " [  416690.]]\n"
     ]
    }
   ],
   "source": [
    "C = np.array( [2*sum(X*Y), 2*sum(Y)]).reshape(2, 1)\n",
    "print(C)"
   ]
  },
  {
   "cell_type": "code",
   "execution_count": 165,
   "metadata": {},
   "outputs": [
    {
     "name": "stdout",
     "output_type": "stream",
     "text": [
      "[[   4.84105896]\n",
      " [-155.09163607]]\n"
     ]
    }
   ],
   "source": [
    "out = la.inv(A) @ C\n",
    "print( out )"
   ]
  },
  {
   "cell_type": "code",
   "execution_count": 166,
   "metadata": {},
   "outputs": [
    {
     "data": {
      "text/plain": [
       "(4.841058964982949, -155.09163607278606)"
      ]
     },
     "execution_count": 166,
     "metadata": {},
     "output_type": "execute_result"
    }
   ],
   "source": [
    "m, b = out[0, 0], out[1, 0]\n",
    "m, b"
   ]
  },
  {
   "cell_type": "code",
   "execution_count": 167,
   "metadata": {},
   "outputs": [
    {
     "data": {
      "image/png": "[encoded data removed]",
      "text/plain": [
       "<Figure size 432x288 with 1 Axes>"
      ]
     },
     "metadata": {
      "needs_background": "light"
     },
     "output_type": "display_data"
    }
   ],
   "source": [
    "plt.plot(X, Y, 'b.')\n",
    "\n",
    "xx = np.linspace(66, 84, 20)\n",
    "yy = m*xx + b\n",
    "plt.plot(xx, yy, 'g-')\n",
    "\n",
    "\n",
    "plt.xlabel('Height')\n",
    "plt.ylabel('Weight')\n",
    "plt.title('Weight v Height of Baseball Players');"
   ]
  },
  {
   "cell_type": "markdown",
   "metadata": {},
   "source": [
    "#### Singular Value Decomposition\n",
    "\n",
    "We can motivate singular value decomposition from the eigenvalue decomposition of symmetric matrices, and then rely on the numpy.linalg routine to implement it. Note singular value decomposition is a fundamental result for many applications, yet is usually not reached by an undergraduate course.\n",
    "\n",
    "A symmetric matrix is guarunteed to have real eigenvalues and a set of eigenvectors that form an orthogonal (and after normalization) orthonormal basis. \n",
    "\n",
    "$$ A = Q D Q^T $$\n",
    "\n",
    "In many examples coming from applications, such as Data Science, the matrices we get are highly non-square with either many more rows than columns or vice versa. "
   ]
  }
 ],
 "metadata": {
  "kernelspec": {
   "display_name": "Python 3",
   "language": "python",
   "name": "python3"
  },
  "language_info": {
   "codemirror_mode": {
    "name": "ipython",
    "version": 3
   },
   "file_extension": ".py",
   "mimetype": "text/x-python",
   "name": "python",
   "nbconvert_exporter": "python",
   "pygments_lexer": "ipython3",
   "version": "3.7.3"
  }
 },
 "nbformat": 4,
 "nbformat_minor": 4
}
