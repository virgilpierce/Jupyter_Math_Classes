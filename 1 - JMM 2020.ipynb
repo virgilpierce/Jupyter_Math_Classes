{
 "cells": [
  {
   "cell_type": "markdown",
   "metadata": {
    "slideshow": {
     "slide_type": "slide"
    }
   },
   "source": [
    "# Teaching Mathematics with Jupyter and PreText\n",
    "\n",
    "### Virgil U Pierce, University of Northern Colorado\n",
    "\n",
    "## Abstract\n",
    "\n",
    "For a mathematics course that is built heavily around the use of Jupyter as an in-class tool,  such as a Data Science,Mathematical Modeling, or even Linear Algebra or Calculus courses it makes sense to use Jupyter to compose the coursenotes. The prose surrounding the computations depends on the results of the computation for example, or the figures beingproduced are dependent on choices made in the computations.  Jupyter can even be used as an interactive presentationduring these classes.The resulting notebook files can be easily published via Github or similar services, or exported to PDF or HTML.However, these are unsatisfactory ways of sharing the material for some uses, and one might prefer to bundle the notesinto something more like an online textbook.  In this presentation we will give an overview of the use of Jupyter as anin-class tool in these kinds of mathematics courses, and then discuss a conversion script for turning Jupyter notebooksinto PreTeXt XML files for publishing as an online textbook (nicely formatted for mobile devices).\n"
   ]
  },
  {
   "cell_type": "markdown",
   "metadata": {
    "slideshow": {
     "slide_type": "slide"
    }
   },
   "source": [
    "## What is Jupyter\n",
    "\n",
    "*Jupyter* is primarily an interactive shell for Python with some additional functionality, mainly a *markdown* language syntax for cells that allows one to wrap Python code cells with descriptive text with some formating options. *Markdown* is a What You See Is What You Get (WYSIWYG) language for typsetting similar to the language used by Wikipedia. For our purposes, the most important feature is that it includes escape environments for typesetting mathematical expressions in $\\LaTeX$ in line and as equations:\n",
    "\n",
    "$$ \\int x^2 dx = 2 x + C $$\n",
    "\n",
    "\n"
   ]
  },
  {
   "cell_type": "markdown",
   "metadata": {
    "slideshow": {
     "slide_type": "subslide"
    }
   },
   "source": [
    "- There are commands for bullets and numeration;\n",
    "- **Bold**, *Italics*, and ~Strikeout~\n",
    "- [html tags](https://virgilpierce.github.io/frontmatter-1.html)\n",
    "- Section and subsection headings (see above)\n",
    "- Importing images (using an HTML / XML type of syntax)\n",
    "\n",
    "<img src=\"IMG_4020.jpg\" style=\"width:200px\">\n",
    "\n",
    "- You can also generate images using Python\n",
    "\n",
    "- A quote environment (see below)\n",
    "\n",
    "and probably some other options I have not discovered yet.\n",
    "\n",
    "Jupyter functions as a webserver either on your local machine or running through a cloud service called a Jupyter Hub. More about Jupyter Hubs at the end.\n",
    "\n"
   ]
  },
  {
   "cell_type": "markdown",
   "metadata": {
    "slideshow": {
     "slide_type": "slide"
    }
   },
   "source": [
    "### What is Python?\n",
    "\n",
    "From the Python Foundation's website:\n",
    "\n",
    "> Python is an interpreted, object-oriented, high-level programming language with dynamic semantics. Its high-level built in data  structures, combined with dynamic typing and dynamic binding, make it very attractive for Rapid Application Development, as well as for use as a scripting or glue language to connect existing components together. \n",
    "\n",
    "\n",
    "\n"
   ]
  },
  {
   "cell_type": "markdown",
   "metadata": {
    "slideshow": {
     "slide_type": "subslide"
    }
   },
   "source": [
    "As someone who is realitvely new to the language I can say that my experience has been:  \n",
    "\n",
    "1. it is a powerful yet easy to learn language with far fewer things that need to be front loaded compared to C++ (no declarations), \n",
    "2. it is much easier to read Python code than other languages (in fact this is a primary focus of the design decisions),\n",
    "3. the interactive environment (like we are using in Jupyter) makes it behave like matlab (you can run a command and then see what happens), \n",
    "4. it is used extensively for computations in math and science,\n",
    "5. its plotting functions use the same syntax as matlab: plot( x, y, 'b-' )\n",
    "6. it is free and open (beer and liberty)"
   ]
  },
  {
   "cell_type": "markdown",
   "metadata": {
    "slideshow": {
     "slide_type": "subslide"
    }
   },
   "source": [
    "Downsides, as a programing language are the obvious\n",
    "\n",
    "1. Because it is not a compiled language like C++ it is substantially slower,\n",
    "2. Because it is more of a programing language than matlab, you may need to worry about the structure of variables and what they represent at some point.\n",
    "\n",
    "I assert, and will try to show you here, that we can insulate students from the issues that occur with downside 2. Downside 1 should not be an issue in most of the cases I have in mind for a class. In my work, 1 has only been an issue in some combinatorial problems where I am trying to iterate over all permutations of size $n > 12$.\n",
    "\n"
   ]
  },
  {
   "cell_type": "markdown",
   "metadata": {
    "slideshow": {
     "slide_type": "subslide"
    }
   },
   "source": [
    "I have had students who have run into problems on their personal machines with computations taking too long in a data science class. I think the university Jupyter Hub I will use next time I teach that class will solve this problem.\n",
    "\n",
    "As with all languages having everyone using the same set of package versions can be an issue. The Jupyter Hub should also address this. "
   ]
  },
  {
   "cell_type": "markdown",
   "metadata": {
    "slideshow": {
     "slide_type": "slide"
    }
   },
   "source": [
    "### Why use a tool like Jupyter/Python in Teaching Mathematics\n",
    "\n",
    "A major frustration in my teaching has been when I ask students to use a tool that I know is unrelated to what they would use in the 'real-world', in their careers, or in other classes. \n",
    "\n",
    "- **Python has evolved to be a major tool used in STEM, from small minor tasks to major research projects**. \n",
    "- **Jupyter/Python is a very common tool for Data Science and Mathematics in industry and were identified as important for candidates to have experience with at employee forums run by TPSE and the MAA that I have attended.**\n",
    "\n"
   ]
  },
  {
   "cell_type": "markdown",
   "metadata": {
    "slideshow": {
     "slide_type": "subslide"
    }
   },
   "source": [
    "I also find that programming languages do have some things in common with human languages, and one of those commonalities is that if you do not use it, you will lose it. \n",
    "\n",
    "- **Asking students to use and interact with Python outside of a their programming class will improve their understanding of the language**\n",
    "- **Asking students to use and interact with Python in more mathematics classes will expand their problem solving approaches.**\n",
    "\n",
    "A goal at UNC is to have Python be included in courses throughout the Applied Mathematics degree to increase students fluency and ability to apply computational tools to a wide variety of mathematical and visualization problems."
   ]
  },
  {
   "cell_type": "markdown",
   "metadata": {
    "slideshow": {
     "slide_type": "subslide"
    }
   },
   "source": [
    "But its not just for students who have had a Python class, it is possible to design your course materials to function as a gentle introduction to the language, similarly to how matlab or mathematica can be introduced to students:\n",
    "\n",
    "- **The language is human readable**\n",
    "- **With Jupyter, the code that students see can be wrapped in detailed explanations including Latex Mathematics**\n",
    "- **With Jupyter, hyperlinks to even more details can be added**\n",
    "- **I will show you some techniques for 'locking' cells to limit what students can change in a notebook, allowing you to create worksheets and interactive notebooks that will be hard(er) for students to 'break'**\n",
    "\n"
   ]
  },
  {
   "cell_type": "markdown",
   "metadata": {
    "slideshow": {
     "slide_type": "slide"
    }
   },
   "source": [
    "### Using Jupyter/Python for Teaching Mathematics\n",
    "\n",
    "I will show you a few things we can do with Jupyter/Python that I think are useful for mathematics classes. A caveat is that I have only so far used it for teaching Data Science. I have taught Linear Algebra using Matlab a number of times and plan to use Python the next time I teach it. I have not taught Calculus using a toold like Python but others have and I think it would be particularly useful in that class to have students use it to produce graphs (as you might use Matlab or Mathematica). For STEM students at UNC this would be particularly helpful as they frequently take a first course on Python in proximity to Calculus."
   ]
  },
  {
   "cell_type": "markdown",
   "metadata": {
    "slideshow": {
     "slide_type": "slide"
    }
   },
   "source": [
    "#### Data Science with Pandas and Scikitlearn\n",
    "\n",
    "Starting with the best example first. \n",
    "\n",
    "- Pandas is a package for working with datasets: reading them from files, manipulating the data, and prepping it for analysis. \n",
    "- Scikitlearn is a package for modeling from data and developing predictions. It includes basics such as Linear Regression, and advanced models such as Neural Networks. It also includes tools for evaluating models."
   ]
  },
  {
   "cell_type": "code",
   "execution_count": 11,
   "metadata": {
    "slideshow": {
     "slide_type": "skip"
    }
   },
   "outputs": [],
   "source": [
    "import pandas as pd\n",
    "import numpy as np\n",
    "import matplotlib.pyplot as plt\n",
    "import sympy as sy"
   ]
  },
  {
   "cell_type": "code",
   "execution_count": 9,
   "metadata": {
    "slideshow": {
     "slide_type": "subslide"
    }
   },
   "outputs": [
    {
     "data": {
      "text/html": [
       "<div>\n",
       "<style scoped>\n",
       "    .dataframe tbody tr th:only-of-type {\n",
       "        vertical-align: middle;\n",
       "    }\n",
       "\n",
       "    .dataframe tbody tr th {\n",
       "        vertical-align: top;\n",
       "    }\n",
       "\n",
       "    .dataframe thead th {\n",
       "        text-align: right;\n",
       "    }\n",
       "</style>\n",
       "<table border=\"1\" class=\"dataframe\">\n",
       "  <thead>\n",
       "    <tr style=\"text-align: right;\">\n",
       "      <th></th>\n",
       "      <th>Sex</th>\n",
       "      <th>Length</th>\n",
       "      <th>Diameter</th>\n",
       "      <th>Height</th>\n",
       "      <th>Whole_weight</th>\n",
       "      <th>Sucked_weight</th>\n",
       "      <th>Viscera_weight</th>\n",
       "      <th>Shell_weight</th>\n",
       "      <th>Rings</th>\n",
       "    </tr>\n",
       "  </thead>\n",
       "  <tbody>\n",
       "    <tr>\n",
       "      <th>0</th>\n",
       "      <td>M</td>\n",
       "      <td>0.455</td>\n",
       "      <td>0.365</td>\n",
       "      <td>0.095</td>\n",
       "      <td>0.5140</td>\n",
       "      <td>0.2245</td>\n",
       "      <td>0.1010</td>\n",
       "      <td>0.150</td>\n",
       "      <td>15</td>\n",
       "    </tr>\n",
       "    <tr>\n",
       "      <th>1</th>\n",
       "      <td>M</td>\n",
       "      <td>0.350</td>\n",
       "      <td>0.265</td>\n",
       "      <td>0.090</td>\n",
       "      <td>0.2255</td>\n",
       "      <td>0.0995</td>\n",
       "      <td>0.0485</td>\n",
       "      <td>0.070</td>\n",
       "      <td>7</td>\n",
       "    </tr>\n",
       "    <tr>\n",
       "      <th>2</th>\n",
       "      <td>F</td>\n",
       "      <td>0.530</td>\n",
       "      <td>0.420</td>\n",
       "      <td>0.135</td>\n",
       "      <td>0.6770</td>\n",
       "      <td>0.2565</td>\n",
       "      <td>0.1415</td>\n",
       "      <td>0.210</td>\n",
       "      <td>9</td>\n",
       "    </tr>\n",
       "    <tr>\n",
       "      <th>3</th>\n",
       "      <td>M</td>\n",
       "      <td>0.440</td>\n",
       "      <td>0.365</td>\n",
       "      <td>0.125</td>\n",
       "      <td>0.5160</td>\n",
       "      <td>0.2155</td>\n",
       "      <td>0.1140</td>\n",
       "      <td>0.155</td>\n",
       "      <td>10</td>\n",
       "    </tr>\n",
       "    <tr>\n",
       "      <th>4</th>\n",
       "      <td>I</td>\n",
       "      <td>0.330</td>\n",
       "      <td>0.255</td>\n",
       "      <td>0.080</td>\n",
       "      <td>0.2050</td>\n",
       "      <td>0.0895</td>\n",
       "      <td>0.0395</td>\n",
       "      <td>0.055</td>\n",
       "      <td>7</td>\n",
       "    </tr>\n",
       "  </tbody>\n",
       "</table>\n",
       "</div>"
      ],
      "text/plain": [
       "  Sex  Length  Diameter  Height  Whole_weight  Sucked_weight  Viscera_weight  \\\n",
       "0   M   0.455     0.365   0.095        0.5140         0.2245          0.1010   \n",
       "1   M   0.350     0.265   0.090        0.2255         0.0995          0.0485   \n",
       "2   F   0.530     0.420   0.135        0.6770         0.2565          0.1415   \n",
       "3   M   0.440     0.365   0.125        0.5160         0.2155          0.1140   \n",
       "4   I   0.330     0.255   0.080        0.2050         0.0895          0.0395   \n",
       "\n",
       "   Shell_weight  Rings  \n",
       "0         0.150     15  \n",
       "1         0.070      7  \n",
       "2         0.210      9  \n",
       "3         0.155     10  \n",
       "4         0.055      7  "
      ]
     },
     "execution_count": 9,
     "metadata": {},
     "output_type": "execute_result"
    }
   ],
   "source": [
    "ab = pd.read_csv('Abalone/abalone.csv', \n",
    "                 names = ['Sex', 'Length', 'Diameter', 'Height', 'Whole_weight', \n",
    "                      'Sucked_weight', 'Viscera_weight', 'Shell_weight',\n",
    "                                          'Rings'])\n",
    "\n",
    "ab.head()"
   ]
  },
  {
   "cell_type": "code",
   "execution_count": 22,
   "metadata": {
    "slideshow": {
     "slide_type": "subslide"
    }
   },
   "outputs": [],
   "source": [
    "# Produce a numpy array with the Length variable and another with the Whole_Weight\n",
    "\n",
    "X = np.atleast_2d(np.array([float(h) for h in ab.loc[:, 'Length']])).transpose()\n",
    "\n",
    "y = np.array(ab.loc[:, 'Whole_weight'])"
   ]
  },
  {
   "cell_type": "code",
   "execution_count": 23,
   "metadata": {
    "slideshow": {
     "slide_type": "subslide"
    }
   },
   "outputs": [
    {
     "data": {
      "image/png": "[encoded data removed]",
      "text/plain": [
       "<Figure size 432x288 with 1 Axes>"
      ]
     },
     "metadata": {
      "needs_background": "light"
     },
     "output_type": "display_data"
    }
   ],
   "source": [
    "plt.plot(X, y, 'b.');"
   ]
  },
  {
   "cell_type": "code",
   "execution_count": 24,
   "metadata": {
    "slideshow": {
     "slide_type": "subslide"
    }
   },
   "outputs": [
    {
     "name": "stdout",
     "output_type": "stream",
     "text": [
      "[[0.455    0.207025]\n",
      " [0.35     0.1225  ]\n",
      " [0.53     0.2809  ]\n",
      " [0.44     0.1936  ]\n",
      " [0.33     0.1089  ]\n",
      " [0.425    0.180625]\n",
      " [0.53     0.2809  ]\n",
      " [0.545    0.297025]\n",
      " [0.475    0.225625]\n",
      " [0.55     0.3025  ]]\n"
     ]
    }
   ],
   "source": [
    "X2 = np.atleast_2d(np.array([x**2 for x in X]))\n",
    "X = np.concatenate([X, X2], axis=1)\n",
    "print(X[:10])"
   ]
  },
  {
   "cell_type": "markdown",
   "metadata": {
    "slideshow": {
     "slide_type": "subslide"
    }
   },
   "source": [
    "A side note here is that students in Linear Algebra that are heading towards a Data Science course will benifit from experience working with large non-square matrices. Typical problems either have many more samples than features, or in the case of images many more features than samples."
   ]
  },
  {
   "cell_type": "code",
   "execution_count": 25,
   "metadata": {
    "slideshow": {
     "slide_type": "subslide"
    }
   },
   "outputs": [
    {
     "data": {
      "text/plain": [
       "(0.44493874474588524, -3.2701559859542164, 7.257566596811777)"
      ]
     },
     "execution_count": 25,
     "metadata": {},
     "output_type": "execute_result"
    }
   ],
   "source": [
    "from sklearn.linear_model import LinearRegression\n",
    "reg = LinearRegression().fit(X, y)\n",
    "c, b, a = reg.intercept_, *reg.coef_\n",
    "c, b, a"
   ]
  },
  {
   "cell_type": "code",
   "execution_count": 29,
   "metadata": {
    "slideshow": {
     "slide_type": "subslide"
    }
   },
   "outputs": [
    {
     "data": {
      "image/png": "[encoded data removed]",
      "text/plain": [
       "<Figure size 432x288 with 1 Axes>"
      ]
     },
     "metadata": {
      "needs_background": "light"
     },
     "output_type": "display_data"
    }
   ],
   "source": [
    "# Plotting the resulting Quadratic Regression Model\n",
    "\n",
    "plt.plot(X[:, 0], y, 'b.')\n",
    "xx = np.linspace(0, 0.8, 50)\n",
    "yy = a*xx**2 + b*xx + c\n",
    "plt.plot(xx, yy, 'r-');"
   ]
  },
  {
   "cell_type": "markdown",
   "metadata": {
    "slideshow": {
     "slide_type": "slide"
    }
   },
   "source": [
    "#### Linear Algebra\n",
    "\n",
    "I have taught an introductory Linear Algebra using Matlab in the class a few times. My version of the course started as the Linear Algebra for Engineers at Ohio State designed by David Terman.\n",
    "\n",
    "- The OSU course moved at what we would probably call a very fast pace\n",
    "- The reason for the fast pace was that Eigenvalues and Eigenvectors were covered in much more detail including lots of applications, and so the course went very fast in order to have time for that.\n",
    "- The course also included a discussion of errors and propogation of errors in solving linear systems."
   ]
  },
  {
   "cell_type": "markdown",
   "metadata": {
    "slideshow": {
     "slide_type": "subslide"
    }
   },
   "source": [
    "The secret was that the course used Matlab for computations and students spent much of their time either translating application problems into LA problems or interpreting the results of computations done by the computer.\n",
    "\n",
    "Compared to the courses I took in Linear Algebra, these focus much more on large and non-square problems."
   ]
  },
  {
   "cell_type": "code",
   "execution_count": 30,
   "metadata": {
    "slideshow": {
     "slide_type": "subslide"
    }
   },
   "outputs": [
    {
     "name": "stdout",
     "output_type": "stream",
     "text": [
      "[[1 1 2]\n",
      " [1 1 1]\n",
      " [2 1 1]]\n"
     ]
    }
   ],
   "source": [
    "# matrices are numpy arrays\n",
    "A = np.array( [ [1, 1, 2], [1, 1, 1], [2, 1, 1]])\n",
    "print(A)"
   ]
  },
  {
   "cell_type": "code",
   "execution_count": 31,
   "metadata": {
    "slideshow": {
     "slide_type": "subslide"
    }
   },
   "outputs": [
    {
     "name": "stdout",
     "output_type": "stream",
     "text": [
      "[[-1]\n",
      " [ 1]\n",
      " [ 3]]\n"
     ]
    }
   ],
   "source": [
    "v = np.array( [ [-1, 1, 3]]).transpose()  \n",
    "# As with matlab and mathematica it is annoyingly easy to enter row-vectors compared with column-vectors\n",
    "print(v)"
   ]
  },
  {
   "cell_type": "code",
   "execution_count": 32,
   "metadata": {
    "slideshow": {
     "slide_type": "subslide"
    }
   },
   "outputs": [
    {
     "name": "stdout",
     "output_type": "stream",
     "text": [
      "[[6]\n",
      " [3]\n",
      " [2]]\n"
     ]
    }
   ],
   "source": [
    "# students can multiply matrices using Python\n",
    "\n",
    "print( A @ v )"
   ]
  },
  {
   "cell_type": "markdown",
   "metadata": {
    "slideshow": {
     "slide_type": "slide"
    }
   },
   "source": [
    "Students (and you) will come face-to-face with the problem that exact results and numerical results are different things. In Python they use separate packages. See below on *Computational Linear Algebra*."
   ]
  },
  {
   "cell_type": "code",
   "execution_count": 35,
   "metadata": {
    "slideshow": {
     "slide_type": "subslide"
    }
   },
   "outputs": [
    {
     "data": {
      "text/latex": [
       "$\\displaystyle \\left[\\begin{matrix}1 & 1 & 1 & 2 & -2 & 4\\\\2 & 2 & 3 & 1 & -1 & 5\\\\-1 & -1 & 1 & 0.5 & -0.5 & 1\\end{matrix}\\right]$"
      ],
      "text/plain": [
       "Matrix([\n",
       "[ 1,  1, 1,   2,   -2, 4],\n",
       "[ 2,  2, 3,   1,   -1, 5],\n",
       "[-1, -1, 1, 0.5, -0.5, 1]])"
      ]
     },
     "execution_count": 35,
     "metadata": {},
     "output_type": "execute_result"
    }
   ],
   "source": [
    "# sympy Matrices can be made from numpy arrays. They include a nice display format.\n",
    "\n",
    "AA = sy.Matrix( [[1, 1, 1, 2, -2, 4], [2, 2, 3, 1, -1, 5], [-1, -1, 1, 1/2, -1/2, 1]])\n",
    "AA"
   ]
  },
  {
   "cell_type": "code",
   "execution_count": 36,
   "metadata": {
    "slideshow": {
     "slide_type": "subslide"
    }
   },
   "outputs": [
    {
     "data": {
      "text/plain": [
       "(Matrix([\n",
       " [1, 1.0, 0, 0,    0, 0.529411764705882],\n",
       " [0,   0, 1, 0,    0, 0.882352941176471],\n",
       " [0,   0, 0, 1, -1.0,  1.29411764705882]]), (0, 2, 3))"
      ]
     },
     "execution_count": 36,
     "metadata": {},
     "output_type": "execute_result"
    }
   ],
   "source": [
    "# We can compute the rref of a matrix\n",
    "\n",
    "AA.rref()"
   ]
  },
  {
   "cell_type": "markdown",
   "metadata": {
    "slideshow": {
     "slide_type": "subslide"
    }
   },
   "source": [
    "Note that we get two items, the first is the rref, the second is a list of the columns with pivots."
   ]
  },
  {
   "cell_type": "code",
   "execution_count": 37,
   "metadata": {
    "slideshow": {
     "slide_type": "subslide"
    }
   },
   "outputs": [
    {
     "data": {
      "text/latex": [
       "$\\displaystyle \\left[\\begin{matrix}1 & 1.0 & 0 & 0 & 0 & 0.529411764705882\\\\0 & 0 & 1 & 0 & 0 & 0.882352941176471\\\\0 & 0 & 0 & 1 & -1.0 & 1.29411764705882\\end{matrix}\\right]$"
      ],
      "text/plain": [
       "Matrix([\n",
       "[1, 1.0, 0, 0,    0, 0.529411764705882],\n",
       "[0,   0, 1, 0,    0, 0.882352941176471],\n",
       "[0,   0, 0, 1, -1.0,  1.29411764705882]])"
      ]
     },
     "execution_count": 37,
     "metadata": {},
     "output_type": "execute_result"
    }
   ],
   "source": [
    "AA.rref()[0] # We can pull out the result by referencing the first item in the tuple."
   ]
  },
  {
   "cell_type": "markdown",
   "metadata": {
    "slideshow": {
     "slide_type": "slide"
    }
   },
   "source": [
    "So early in the course, Python gives us a nice way for students to do the computations we are doing. \n",
    "\n",
    "- I would have students using Elementary Matrices to encode row operations as we build up to RREF.\n",
    "- Because they are using the computer for the computations we can use much larger problems than we would by hand\n",
    "- With much larger problems, much more interesting things happen\n",
    "- We are letting the computer do what it is good at - arithemetic, so students can do what they are best at - thinking."
   ]
  },
  {
   "cell_type": "markdown",
   "metadata": {
    "slideshow": {
     "slide_type": "slide"
    }
   },
   "source": [
    "Some notes on the logistics:  I would code larger matrices as .csv files and then use Python tools to have students read them in. Entering the numbers for large matrices is tedious and error prone, better to just let the computer do it.\n",
    "\n",
    "Later I will discuss some tools I would use for providing Jupyter/Python examples to students, that are superior to the way I was using Matlab."
   ]
  },
  {
   "cell_type": "markdown",
   "metadata": {
    "slideshow": {
     "slide_type": "slide"
    }
   },
   "source": [
    "##### Computational Linear Algebra\n",
    "\n",
    "The real power of these kinds of tools in a *Linear Algebra* class comes out when we get to eigenvalues and beyond (which in my classes would be a fair bit earlier than in a non-computer class).\n",
    "\n",
    "The first method of computing eigenvalues that we typically introduce is as solutions of the polynomial equation \n",
    "\n",
    "$$ \\mbox{det}(A - \\lambda I) = 0 $$\n",
    "\n",
    "Which is important as it is emphasizing the use of the determinant for determining singularity, eigenvectors as elements of a nullspace, and the eigenvalues as parameters creating a nullspace.\n",
    "\n",
    "However some important points that we usually gloss over at this point in the course: General solutions to these polynomials are only guaranteed for an $A$ that is $n\\times n$ with $n \\leq 4$ and most of us only have the formula memorized for $n\\leq 2$. Once $n$ is bigger than 4 solving this equation would be done using something like Newton's method which is slow compared to direct methods.\n",
    "\n",
    "Now I would not teach students what some of those direct methods are, but we would discuss this issue and then begin using the routines in numpy.\n",
    "\n"
   ]
  },
  {
   "cell_type": "markdown",
   "metadata": {
    "slideshow": {
     "slide_type": "slide"
    }
   },
   "source": [
    "##### Eigenvalue Lesson\n",
    "\n",
    "We first introduce students to Eigenvalues via experimentation with a Markov matrix"
   ]
  },
  {
   "cell_type": "code",
   "execution_count": 38,
   "metadata": {
    "slideshow": {
     "slide_type": "subslide"
    }
   },
   "outputs": [
    {
     "name": "stdout",
     "output_type": "stream",
     "text": [
      "[[0.   0.   0.25 0.   0.  ]\n",
      " [0.   0.   0.25 0.   0.  ]\n",
      " [0.5  1.   0.   0.5  0.  ]\n",
      " [0.   0.   0.25 0.   0.  ]\n",
      " [0.5  0.   0.25 0.5  1.  ]]\n"
     ]
    }
   ],
   "source": [
    "M = np.array([0, 0, 0.5, 0, 0.5,\n",
    "              0, 0, 1, 0, 0,\n",
    "              0.25, 0.25, 0, 0.25, 0.25,\n",
    "              0, 0, 0.5, 0, 0.5, \n",
    "              0, 0, 0,   0, 1]).reshape(5,5).transpose()\n",
    "print(M)"
   ]
  },
  {
   "cell_type": "markdown",
   "metadata": {
    "slideshow": {
     "slide_type": "subslide"
    }
   },
   "source": [
    "Take a random vector $v$ and repeatedly apply $M$ (Markov matrices encode for instances how a population is moving between a set of cities at each time step)."
   ]
  },
  {
   "cell_type": "code",
   "execution_count": 39,
   "metadata": {
    "slideshow": {
     "slide_type": "subslide"
    }
   },
   "outputs": [
    {
     "name": "stdout",
     "output_type": "stream",
     "text": [
      "[[0.05]\n",
      " [0.05]\n",
      " [0.4 ]\n",
      " [0.05]\n",
      " [0.45]]\n"
     ]
    }
   ],
   "source": [
    "v = np.array([ [0.2, 0.2, 0.2, 0.2, 0.2]]).transpose()\n",
    "print( M @ v)"
   ]
  },
  {
   "cell_type": "code",
   "execution_count": 42,
   "metadata": {
    "slideshow": {
     "slide_type": "subslide"
    }
   },
   "outputs": [
    {
     "name": "stdout",
     "output_type": "stream",
     "text": [
      "[[0.1]\n",
      " [0.1]\n",
      " [0.1]\n",
      " [0.1]\n",
      " [0.6]]\n"
     ]
    }
   ],
   "source": [
    "print( np.linalg.matrix_power(M, 2) @ v)"
   ]
  },
  {
   "cell_type": "code",
   "execution_count": 44,
   "metadata": {
    "slideshow": {
     "slide_type": "subslide"
    }
   },
   "outputs": [
    {
     "name": "stdout",
     "output_type": "stream",
     "text": [
      "[[1.77635684e-16]\n",
      " [1.77635684e-16]\n",
      " [1.77635684e-16]\n",
      " [1.77635684e-16]\n",
      " [1.00000000e+00]]\n"
     ]
    }
   ],
   "source": [
    "v0 = np.linalg.matrix_power(M, 100) @ v  # Note the 100th power of a matrix, we would not compute by hand\n",
    "                                  # without diagonalizing with eigenvalues/eigenvectors\n",
    "print(v0)"
   ]
  },
  {
   "cell_type": "code",
   "execution_count": 47,
   "metadata": {
    "slideshow": {
     "slide_type": "subslide"
    }
   },
   "outputs": [
    {
     "name": "stdout",
     "output_type": "stream",
     "text": [
      "[[4.44089210e-17]\n",
      " [4.44089210e-17]\n",
      " [3.55271368e-16]\n",
      " [4.44089210e-17]\n",
      " [1.00000000e+00]]\n"
     ]
    }
   ],
   "source": [
    "print(M @ v0)\n",
    "\n",
    "# and so students can find that 1 is an eigenvalue of M (up to machine zero)."
   ]
  },
  {
   "cell_type": "code",
   "execution_count": 46,
   "metadata": {
    "slideshow": {
     "slide_type": "subslide"
    }
   },
   "outputs": [
    {
     "name": "stdout",
     "output_type": "stream",
     "text": [
      "[ 1.00000000e+00 -7.07106781e-01 -2.55871713e-17  7.07106781e-01\n",
      "  0.00000000e+00]\n"
     ]
    }
   ],
   "source": [
    "# Verified with the numpy.linalg.eig function\n",
    "print(np.linalg.eig(M)[0])"
   ]
  },
  {
   "cell_type": "markdown",
   "metadata": {
    "slideshow": {
     "slide_type": "slide"
    }
   },
   "source": [
    "We can also play with companion matrices and see much larger examples."
   ]
  },
  {
   "cell_type": "code",
   "execution_count": 48,
   "metadata": {
    "slideshow": {
     "slide_type": "subslide"
    }
   },
   "outputs": [
    {
     "name": "stdout",
     "output_type": "stream",
     "text": [
      "[[   0    1    0    0    0    0]\n",
      " [   0    0    1    0    0    0]\n",
      " [   0    0    0    1    0    0]\n",
      " [   0    0    0    0    1    0]\n",
      " [   0    0    0    0    0    1]\n",
      " [ 192  -64 -156    4   25    0]]\n"
     ]
    }
   ],
   "source": [
    "A = np.array( [ [0, 1, 0, 0, 0, 0], \n",
    "               [0, 0, 1, 0, 0, 0],\n",
    "               [0, 0, 0, 1, 0, 0], \n",
    "               [0, 0, 0, 0, 1, 0],\n",
    "               [0, 0, 0, 0, 0, 1], \n",
    "               [192, -64, -156, 4, 25, 0]])\n",
    "print(A)"
   ]
  },
  {
   "cell_type": "code",
   "execution_count": 50,
   "metadata": {
    "slideshow": {
     "slide_type": "subslide"
    }
   },
   "outputs": [
    {
     "name": "stdout",
     "output_type": "stream",
     "text": [
      "[-4.+0.j  4.+0.j  3.+0.j -2.+0.j -2.-0.j  1.+0.j]\n"
     ]
    }
   ],
   "source": [
    "out = np.linalg.eig(A)\n",
    "print(out[0].round(5))   \n",
    "# .round() is used in the output because the tolerances for numpy.linalg.eig() are producing results\n",
    "# that have an error of order 10^-6. \n",
    "\n",
    "# Symmetric matrices have better algorithms implemented that will give more accurate results."
   ]
  },
  {
   "cell_type": "code",
   "execution_count": 51,
   "metadata": {
    "slideshow": {
     "slide_type": "subslide"
    }
   },
   "outputs": [
    {
     "data": {
      "text/latex": [
       "$\\displaystyle x^{6} - 25 x^{4} - 4 x^{3} + 156 x^{2} + 64 x - 192$"
      ],
      "text/plain": [
       "x**6 - 25*x**4 - 4*x**3 + 156*x**2 + 64*x - 192"
      ]
     },
     "execution_count": 51,
     "metadata": {},
     "output_type": "execute_result"
    }
   ],
   "source": [
    "# We can use the symbolic tools to verify this result\n",
    "\n",
    "x = sy.symbols('x')\n",
    "sy.expand((x+4)*(x-4)*(x-3)*(x+2)*(x+2)*(x-1))"
   ]
  },
  {
   "cell_type": "markdown",
   "metadata": {
    "slideshow": {
     "slide_type": "slide"
    }
   },
   "source": [
    "##### Other Examples for Linear Algebra to Consider\n",
    "\n",
    "Other nice and large non-square examples that Jupyter/Python is well equiped to work with include:\n",
    "\n",
    "- Linear Regression as the solution of a large non-square linear system of equations resulting from a Calculus optimization;\n",
    "- Linear Regression as an orthogonal projection;\n",
    "- For that matter orthogonal projection more generally.\n"
   ]
  },
  {
   "cell_type": "markdown",
   "metadata": {
    "slideshow": {
     "slide_type": "slide"
    }
   },
   "source": [
    "#### Calculus\n",
    "\n",
    "Unfortunately, given the short time, and also that I do not have examples already prepared, I will not give details of how I would use this in a Calculus course. Instead just some ideas:\n",
    "\n",
    "- I think the best use of technology in a Calculus class is creating visualizations\n",
    "- Although there is a sympy package for doing symbolic computations\n",
    "- Mostly what I would suggest is creating Jupyter worksheets for students to use, and making use of the cell lock feature I will discuss here."
   ]
  },
  {
   "cell_type": "markdown",
   "metadata": {
    "slideshow": {
     "slide_type": "slide"
    }
   },
   "source": [
    "##### Cell Lock\n",
    "\n",
    "I was introduced to the cell lock feature at the Banff workshop \"Open Education Resources and Technologies in Mathematics.\" Patrick Walls (UBC) was demonstrating the *NBGrader* package: a tool for automatically grading student Jupyter submissions when we noticed a feature available to Jupyter Notebooks.\n",
    "\n",
    "To explain, a Jupyter Notebook is a set of data in a format called JSON. Each cell in the notebook is represented as a JSON Object (a collection of unordered data) including the text of the cell and the type of cell it is (Markdown or Code). However there are additional fields that Jupyter can interpret and one called \"editable\" can be set to false. "
   ]
  },
  {
   "cell_type": "markdown",
   "metadata": {
    "slideshow": {
     "slide_type": "subslide"
    }
   },
   "source": [
    "The following cells would be the \"worksheet\" for students to use to produce the graph of a function and their derivative of it.\n",
    "\n",
    "There are three editable cells. The function definition, its derivative, and a cell giving the domain for the graph. Then the rest of the worksheet is executable but not editable."
   ]
  },
  {
   "cell_type": "code",
   "execution_count": 14,
   "metadata": {
    "slideshow": {
     "slide_type": "subslide"
    }
   },
   "outputs": [],
   "source": [
    "# Enter the function you are graphing after \"return\"\n",
    "# Note that powers which we Latex with ^ are represented in Python by **\n",
    "\n",
    "def f(x):\n",
    "    return x**2 + 2*x + 1"
   ]
  },
  {
   "cell_type": "code",
   "execution_count": 5,
   "metadata": {
    "slideshow": {
     "slide_type": "subslide"
    }
   },
   "outputs": [],
   "source": [
    "# Enter the derivative of the function you are graphing after \"return\"\n",
    "\n",
    "def df(x):\n",
    "    return 2*x + 2"
   ]
  },
  {
   "cell_type": "code",
   "execution_count": 19,
   "metadata": {
    "slideshow": {
     "slide_type": "subslide"
    }
   },
   "outputs": [],
   "source": [
    "# Here you can adjust the domain for the graph below\n",
    "\n",
    "xmin, xmax = -7, 5"
   ]
  },
  {
   "cell_type": "code",
   "execution_count": 20,
   "metadata": {
    "scrolled": true,
    "slideshow": {
     "slide_type": "subslide"
    }
   },
   "outputs": [
    {
     "data": {
      "image/png": "[encoded data removed]",
      "text/plain": [
       "<Figure size 432x288 with 1 Axes>"
      ]
     },
     "metadata": {
      "needs_background": "light"
     },
     "output_type": "display_data"
    }
   ],
   "source": [
    "# Execute this cell to graph the function and its derivative\n",
    "\n",
    "xx = np.linspace(xmin, xmax, 50)\n",
    "plt.plot(xx, f(xx), 'b-')\n",
    "plt.plot(xx, df(xx), 'r-');"
   ]
  },
  {
   "cell_type": "markdown",
   "metadata": {
    "slideshow": {
     "slide_type": "slide"
    }
   },
   "source": [
    "#### Additional Tools: Jupyter Hub\n",
    "\n",
    "As I have been thinking about the goal of exposing students to Jupyter/Python more frequently by including it in their mathematics class an issue arose that need to be solved:\n",
    "\n",
    "- While at UNC 99% of students report having a personal device:\n",
    " - That device is often a tablet\n",
    " - If it is a computer it is often the cheapest computer sold by a retailer.\n",
    " - You can expect a class to have mixture of macs and PCs, and in many cases a Linux machine or two.\n",
    " \n",
    "These devices are slow, and keeping all of the versions of Jupyter, Python, and the packages used the same is impossible. Some commands are operating system dependent, particularly ones that interface with the file system.\n",
    "\n",
    "\n"
   ]
  },
  {
   "cell_type": "markdown",
   "metadata": {
    "slideshow": {
     "slide_type": "subslide"
    }
   },
   "source": [
    "These issues can be addressed by using a JupyterHub. A JupyterHub essentially serves up the Jupyter/Python environment on an external server rather than having students run it on their local machine.\n",
    "\n",
    "- A simple hub can be set up on a cloud server for not too much (a few dollars per day which you can also turn off when it is not being used),\n",
    "- A more involved hub can be set up by your IT,\n",
    "- Students will have a uniform environment for using Jupyter/Python:  Your worksheets will work out of the box, and they will be able to share worksheets with you and other students,\n",
    "- Because it runs on the server it can be used on a Tablet or Phone."
   ]
  },
  {
   "cell_type": "markdown",
   "metadata": {
    "slideshow": {
     "slide_type": "slide"
    }
   },
   "source": [
    "## Sharing Jupyter Notebooks\n",
    "\n",
    "I share my Jupyter notebooks, both the class notes and the worksheets we use in two ways. \n",
    "\n",
    "- The entire set of notebooks including alternate versions, as well as notebooks by other authors I want to share are maintained on a Github for the class. Students receive in the syllabus the link for downloading (or cloning) the git.\n",
    "\n",
    "- The final versions of the notebooks are converted to PreText and then published as sections /chapters of the course textbook."
   ]
  },
  {
   "cell_type": "markdown",
   "metadata": {
    "slideshow": {
     "slide_type": "subslide"
    }
   },
   "source": [
    "Students make use of both methods of obtaining the notebooks. It would be worth doing some research into why they are choosing one method or the other.\n",
    "\n",
    "I think many of them using the PreText like the navigation tools attached that allow them to skip around. I also added some hyperlinks between sections, definitions, etc."
   ]
  },
  {
   "cell_type": "markdown",
   "metadata": {
    "slideshow": {
     "slide_type": "slide"
    }
   },
   "source": [
    "### Why convert Jupyter to PreText\n",
    "\n",
    "So the premise then is: We have a class that is using Python as a computational tool to some extent, the worksheets or notes are being prepared using Jupyter. We would like to convert them to PreText to publish as a textbook. Why? (my thoughts)\n",
    "\n",
    "1. The Textbook becomes a somewhat more fixed version of the notes,\n",
    "2. Some students prefer to access the course materials via the PreText book,\n",
    "3. We might want to add PreText features (links, index, etc.) or \n",
    "4. We are including the notebooks as part of a larger PreText project. "
   ]
  },
  {
   "cell_type": "markdown",
   "metadata": {
    "slideshow": {
     "slide_type": "subslide"
    }
   },
   "source": [
    "The downside, if you have not noticed already, is that you need to add an extension for spell checking Jupyter markdown cells."
   ]
  },
  {
   "cell_type": "markdown",
   "metadata": {
    "slideshow": {
     "slide_type": "slide"
    }
   },
   "source": [
    "#### Compiling Notebooks to a PreText Book\n",
    "\n",
    "The conversion script is available from: https://github.com/virgilpierce/jpconvert\n",
    "\n",
    "Some notes about how it works:\n",
    "\n",
    "1. Jupyter notebooks, as we've discussed are JSON files with each cell recorded as an object.\n",
    "2. Accordingly the conversion script scans the notebooks cell-by-cell\n",
    "3. It uses the JSON tags to identify Markdown or Code and then sets the Code into PreText Code Blocks\n",
    "4. While Jupyter's Markdown contains Sectioning commands they do not *close* thus the converter needs to make some assumptions about when sections and other blocks close.\n",
    "5. Jupyter's Markdown is simple in some other ways (for instance the enumerate and itemize blocks are identified with just a leading number or -).\n"
   ]
  },
  {
   "cell_type": "markdown",
   "metadata": {
    "slideshow": {
     "slide_type": "subslide"
    }
   },
   "source": [
    "##### Left to be done\n",
    "\n",
    "Some things that are not yet done by the converter that need to be fixed:\n",
    "\n",
    "- It should identify at the begining what the top level section is (i.e. Book or Article).\n",
    "- The Jupyter Notebook JSON contains the actuall PNG data for the Python generated images. However I have not been able to have the script save that as a PNG file and add the image code to the PreText.\n"
   ]
  },
  {
   "cell_type": "code",
   "execution_count": null,
   "metadata": {},
   "outputs": [],
   "source": []
  }
 ],
 "metadata": {
  "celltoolbar": "Slideshow",
  "kernelspec": {
   "display_name": "Python 3",
   "language": "python",
   "name": "python3"
  },
  "language_info": {
   "codemirror_mode": {
    "name": "ipython",
    "version": 3
   },
   "file_extension": ".py",
   "mimetype": "text/x-python",
   "name": "python",
   "nbconvert_exporter": "python",
   "pygments_lexer": "ipython3",
   "version": "3.7.4"
  }
 },
 "nbformat": 4,
 "nbformat_minor": 4
}
